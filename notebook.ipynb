{
 "cells": [
  {
   "cell_type": "markdown",
   "metadata": {},
   "source": [
    "# HW 1\n",
    "\n",
    "## Import libraries"
   ]
  },
  {
   "cell_type": "code",
   "execution_count": 1,
   "metadata": {
    "collapsed": false,
    "jupyter": {
     "outputs_hidden": false
    },
    "pycharm": {
     "name": "#%%\n"
    }
   },
   "outputs": [],
   "source": [
    "display_figures = True\n",
    "\n",
    "def display_correlation_matrix(X,y):\n",
    "    if not display_figures:\n",
    "        return\n",
    "\n",
    "    Xy = pd.concat([X, y], axis=1)\n",
    "    corr = Xy.corr()\n",
    "    f = plt.figure(figsize=(20, 20))\n",
    "    plt.matshow(corr, fignum=f.number)\n",
    "    plt.xticks(range(Xy.shape[1]), Xy.columns, fontsize=14, rotation=90)\n",
    "    plt.yticks(range(Xy.shape[1]), Xy.columns, fontsize=14)\n",
    "    cb = plt.colorbar()\n",
    "    cb.ax.tick_params(labelsize=14)\n",
    "    plt.title('Correlation Matrix', fontsize=16)\n",
    "    plt.show()"
   ]
  },
  {
   "cell_type": "code",
   "execution_count": 2,
   "metadata": {},
   "outputs": [],
   "source": [
    "import pandas as pd # data analysis and manipulation tool\n",
    "import numpy as np # Numerical computing tools\n",
    "import matplotlib.pyplot as plt # another visualization library\n",
    "import warnings\n",
    "\n",
    "from sklearn.model_selection import train_test_split\n",
    "from sklearn.preprocessing import MinMaxScaler, MaxAbsScaler\n",
    "from sklearn.impute import SimpleImputer\n",
    "from sklearn.compose import make_column_transformer\n",
    "from skrebate import ReliefF\n",
    "from sklearn.feature_selection import RFE\n",
    "from sklearn.pipeline import Pipeline\n",
    "from sklearn.svm import SVC\n",
    "from sklearn.preprocessing import FunctionTransformer\n",
    "from sklearn.preprocessing import LabelEncoder \n",
    "from sklearn.experimental import enable_iterative_imputer\n",
    "from sklearn.impute import IterativeImputer\n",
    "\n",
    "from mlxtend.feature_selection import SequentialFeatureSelector\n",
    "\n",
    "warnings.filterwarnings('ignore')"
   ]
  },
  {
   "cell_type": "markdown",
   "metadata": {},
   "source": [
    "## Part 1 - load the data\n"
   ]
  },
  {
   "cell_type": "code",
   "execution_count": 3,
   "metadata": {
    "collapsed": false,
    "jupyter": {
     "outputs_hidden": false
    },
    "pycharm": {
     "name": "#%%\n"
    }
   },
   "outputs": [],
   "source": [
    "file = 'virus_hw2.csv'"
   ]
  },
  {
   "cell_type": "code",
   "execution_count": 4,
   "metadata": {
    "collapsed": false,
    "jupyter": {
     "outputs_hidden": false
    },
    "pycharm": {
     "name": "#%%\n"
    }
   },
   "outputs": [],
   "source": [
    "df = pd.read_csv(file)"
   ]
  },
  {
   "cell_type": "code",
   "execution_count": 5,
   "metadata": {
    "collapsed": false,
    "jupyter": {
     "outputs_hidden": false
    },
    "pycharm": {
     "name": "#%%\n"
    }
   },
   "outputs": [],
   "source": [
    "df.drop(labels=['Address', 'Job', 'PatientID'], axis=1, inplace=True)"
   ]
  },
  {
   "cell_type": "markdown",
   "metadata": {},
   "source": [
    "## Part 2 - Split to train, validate and test sets\n",
    "\n",
    "The ratio is 70% for training, 15% for validating and 15% for testing."
   ]
  },
  {
   "cell_type": "code",
   "execution_count": 6,
   "metadata": {
    "collapsed": false,
    "jupyter": {
     "outputs_hidden": false
    },
    "pycharm": {
     "name": "#%%\n"
    }
   },
   "outputs": [],
   "source": [
    "X = df.drop(labels=['TestResultsCode'], axis=1)\n",
    "y = df[['TestResultsCode']]\n",
    "\n",
    "X_train, X_test, y_train, y_test = train_test_split(X, y, test_size=0.15, random_state=1)\n",
    "\n",
    "X_train, X_val, y_train, y_val = train_test_split(X_train, y_train, test_size=0.176, random_state=1) # 0.176 x 0.85 = 0.15\n"
   ]
  },
  {
   "cell_type": "markdown",
   "metadata": {},
   "source": [
    "## Part 3 - Fix the data types\n",
    "\n",
    "Fixing CurrentLocation lat long type - separate into 2 features"
   ]
  },
  {
   "cell_type": "code",
   "execution_count": 7,
   "metadata": {},
   "outputs": [],
   "source": [
    "label_categories = [\n",
    "    'not_detected_Spreader_NotatRisk',\n",
    "    'not_detected_NotSpreader_atRisk',\n",
    "    'not_detected_NotSpreader_NotatRisk',\n",
    "    'not_detected_Spreader_atRisk',\n",
    "    'cold_NotSpreader_NotatRisk',\n",
    "    'cold_Spreader_NotatRisk',\n",
    "    'cold_Spreader_atRisk',\n",
    "    'cold_NotSpreader_atRisk',\n",
    "    'flue_NotSpreader_NotatRisk',\n",
    "    'flue_NotSpreader_atRisk',\n",
    "    'flue_Spreader_NotatRisk',\n",
    "    'covid_NotSpreader_atRisk',\n",
    "    'covid_Spreader_NotatRisk',\n",
    "    'flue_Spreader_atRisk',\n",
    "    'covid_NotSpreader_NotatRisk',\n",
    "    'covid_Spreader_atRisk',\n",
    "    'cmv_NotSpreader_NotatRisk',\n",
    "    'cmv_Spreader_atRisk',\n",
    "    'cmv_NotSpreader_atRisk',\n",
    "    'cmv_Spreader_NotatRisk',\n",
    "    'measles_Spreader_NotatRisk',\n",
    "    'measles_NotSpreader_NotatRisk',\n",
    "    'measles_NotSpreader_atRisk',\n",
    "    'measles_Spreader_atRisk',\n",
    "]\n",
    "\n",
    "convert_features_dict = {\n",
    "    'BloodType': pd.CategoricalDtype(categories=['AB-', 'A+', 'AB+', 'A-', 'B-', 'O-', 'B+', 'O+']),\n",
    "    'SyndromeClass': pd.CategoricalDtype(categories=range(1,5))\n",
    "}\n",
    "\n",
    "convert_label_dict = {\n",
    "    'TestResultsCode': pd.CategoricalDtype(categories=label_categories)\n",
    "}"
   ]
  },
  {
   "cell_type": "code",
   "execution_count": 8,
   "metadata": {
    "collapsed": false,
    "jupyter": {
     "outputs_hidden": false
    },
    "pycharm": {
     "name": "#%%\n"
    }
   },
   "outputs": [],
   "source": [
    "def fix_data_types(X):\n",
    "    return X.astype(convert_features_dict)\n",
    "\n",
    "data_types_transofrmer = FunctionTransformer(fix_data_types)"
   ]
  },
  {
   "cell_type": "code",
   "execution_count": 9,
   "metadata": {
    "collapsed": false,
    "jupyter": {
     "outputs_hidden": false
    },
    "pycharm": {
     "name": "#%%\n"
    }
   },
   "outputs": [],
   "source": [
    "def fix_label_type(y):\n",
    "    y = y.astype(convert_label_dict)\n",
    "    y.update(y[['TestResultsCode']].apply(lambda x: x.cat.codes))\n",
    "    y = y.astype({'TestResultsCode': int})\n",
    "    return y\n",
    "\n",
    "label_transformer = FunctionTransformer(fix_label_type)"
   ]
  },
  {
   "cell_type": "markdown",
   "metadata": {},
   "source": [
    "### Handle Sex"
   ]
  },
  {
   "cell_type": "code",
   "execution_count": 10,
   "metadata": {},
   "outputs": [],
   "source": [
    "def handle_sex_type(X):\n",
    "    return X.replace({'Sex': {'F': -1, 'M': 1}})\n",
    "\n",
    "sex_type_transformer = FunctionTransformer(handle_sex_type)\n"
   ]
  },
  {
   "cell_type": "markdown",
   "metadata": {},
   "source": [
    "### Handle BloodType"
   ]
  },
  {
   "cell_type": "code",
   "execution_count": 11,
   "metadata": {},
   "outputs": [],
   "source": [
    "def handle_blood_type(X):\n",
    "    return pd.get_dummies(X, columns=[\"BloodType\"], prefix=[\"BloodType\"])\n",
    "\n",
    "blood_type_transformer = FunctionTransformer(handle_blood_type)\n"
   ]
  },
  {
   "cell_type": "markdown",
   "metadata": {},
   "source": [
    "### Handle DateOfPCRTest"
   ]
  },
  {
   "cell_type": "code",
   "execution_count": 12,
   "metadata": {
    "tags": []
   },
   "outputs": [],
   "source": [
    "def handle_date_of_pcr_test(X):\n",
    "    X['DateOfPCRTest'] = pd.to_datetime(X['DateOfPCRTest'], infer_datetime_format=True)\n",
    "    X['DateOfPCRTest'] = X['DateOfPCRTest'].values.astype(float)\n",
    "    X['DateOfPCRTest'].values[X['DateOfPCRTest'].values < 0] = np.nan\n",
    "    return X\n",
    "\n",
    "date_of_pcr_test_type_transformer = FunctionTransformer(handle_date_of_pcr_test)"
   ]
  },
  {
   "cell_type": "markdown",
   "metadata": {},
   "source": [
    "### Handle SyndromeClass"
   ]
  },
  {
   "cell_type": "code",
   "execution_count": 13,
   "metadata": {},
   "outputs": [],
   "source": [
    "def handle_syndrome_class(X):\n",
    "    return pd.get_dummies(X, columns=[\"SyndromeClass\"], prefix=[\"SyndromeClass\"])\n",
    "\n",
    "syndrome_class_transformer = FunctionTransformer(handle_syndrome_class)\n"
   ]
  },
  {
   "cell_type": "markdown",
   "metadata": {},
   "source": [
    "### Handle location\n",
    "\n",
    "we separate the location into 2 features for longitude and latitude."
   ]
  },
  {
   "cell_type": "code",
   "execution_count": 14,
   "metadata": {},
   "outputs": [],
   "source": [
    "def handle_location(X):\n",
    "    long_lat_df = X['CurrentLocation'].str.strip('(Decimal').str.split(', ', expand=True).rename(columns={0:'Lat', 1:'Long'})\n",
    "    X['CurrentLocation_Lat'] = long_lat_df['Lat'].str.strip(\"')\")\n",
    "    X['CurrentLocation_Long'] = long_lat_df['Long'].str.strip(\"Decimal('\").str.rstrip(\"'))\")\n",
    "\n",
    "    convert_dict = {\n",
    "        'CurrentLocation_Lat': float,\n",
    "        'CurrentLocation_Long': float,\n",
    "    }\n",
    "\n",
    "    X = X.astype(convert_dict)\n",
    "    return X.drop(labels=['CurrentLocation'], axis=1)\n",
    "\n",
    "location_transformer = FunctionTransformer(handle_location)"
   ]
  },
  {
   "cell_type": "markdown",
   "metadata": {},
   "source": [
    "### Handle symptoms\n",
    "\n",
    "We create a one-hot vector of all symptoms and remove the old mixed feature."
   ]
  },
  {
   "cell_type": "code",
   "execution_count": 15,
   "metadata": {},
   "outputs": [],
   "source": [
    "def handle_symptoms(X):\n",
    "    splitted_df = X['SelfDeclarationOfIllnessForm'].str.split(';', expand=True)\n",
    "    values = splitted_df.values.flatten()\n",
    "    unique_values = pd.unique(values).tolist()\n",
    "    stripped_unique_values = [str(val).strip(' ') for val in unique_values]\n",
    "\n",
    "    # Split by ; to create a list for each row\n",
    "    X['SelfDeclarationOfIllnessForm_list'] = X['SelfDeclarationOfIllnessForm'].str.split(';')\n",
    "\n",
    "    # Replace NAN values with empty list\n",
    "    isna = X['SelfDeclarationOfIllnessForm_list'].isna()\n",
    "    X.loc[isna, 'SelfDeclarationOfIllnessForm_list'] = pd.Series([['nan']] * isna.sum()).values\n",
    "\n",
    "    # strip whitespaces\n",
    "    X['SelfDeclarationOfIllnessForm_list'] = [[str(val).strip() for val in list(symptom_list)]\n",
    "                                              for symptom_list in X['SelfDeclarationOfIllnessForm_list'].values]\n",
    "\n",
    "    # Create columns\n",
    "    for column_name in stripped_unique_values:\n",
    "        X[column_name] = X['SelfDeclarationOfIllnessForm_list'].map(lambda l: 1 if column_name in l else 0)\n",
    "\n",
    "    # Rename no symptoms column\n",
    "    # Drop irrelevant features\n",
    "    X = X.rename(columns={'nan': 'No_Symptoms'})\\\n",
    "        .drop(labels=['SelfDeclarationOfIllnessForm','SelfDeclarationOfIllnessForm_list'], axis=1)\n",
    "    return X\n",
    "\n",
    "symptoms_transformer = FunctionTransformer(handle_symptoms)"
   ]
  },
  {
   "cell_type": "code",
   "execution_count": 16,
   "metadata": {
    "collapsed": false,
    "jupyter": {
     "outputs_hidden": false
    },
    "pycharm": {
     "name": "#%%\n"
    }
   },
   "outputs": [],
   "source": [
    "features_data_types_pipeline = Pipeline([\n",
    "    ('handle_sex_type', sex_type_transformer),\n",
    "    ('handle_blood_type', blood_type_transformer),\n",
    "    ('handle_date_of_pcr_test', date_of_pcr_test_type_transformer),\n",
    "    ('handle_syndrome_class', syndrome_class_transformer),\n",
    "    ('handle_location', location_transformer),\n",
    "    ('handle_symptoms', symptoms_transformer)\n",
    "])"
   ]
  },
  {
   "cell_type": "markdown",
   "metadata": {},
   "source": [
    "## Part 3 - Transformations\n"
   ]
  },
  {
   "cell_type": "markdown",
   "metadata": {},
   "source": [
    "### Imputation"
   ]
  },
  {
   "cell_type": "code",
   "execution_count": 17,
   "metadata": {},
   "outputs": [],
   "source": [
    "from sklearn.impute import KNNImputer"
   ]
  },
  {
   "cell_type": "code",
   "execution_count": 18,
   "metadata": {},
   "outputs": [],
   "source": [
    "numeric_features = [\n",
    "    'AvgHouseholdExpenseOnPresents', \n",
    "    'AvgHouseholdExpenseOnSocialGames',\n",
    "    'AvgHouseholdExpenseParkingTicketsPerYear',\n",
    "    'AvgMinSportsPerDay',\n",
    "    'AvgTimeOnSocialMedia',\n",
    "    'AvgTimeOnStuding',\n",
    "    'BMI',\n",
    "    'DateOfPCRTest',\n",
    "    'NrCousins',\n",
    "    'StepsPerYear',\n",
    "    'TimeOnSocialActivities',\n",
    "    'pcrResult1',\n",
    "    'pcrResult2',\n",
    "    'pcrResult3',\n",
    "    'pcrResult4',\n",
    "    'pcrResult5',\n",
    "    'pcrResult6',\n",
    "    'pcrResult7',\n",
    "    'pcrResult8',\n",
    "    'pcrResult9',\n",
    "    'pcrResult10',\n",
    "    'pcrResult11',\n",
    "    'pcrResult12',\n",
    "    'pcrResult13',\n",
    "    'pcrResult14',\n",
    "    'pcrResult15',\n",
    "    'pcrResult16',\n",
    "    'CurrentLocation_Lat',\n",
    "    'CurrentLocation_Long']\n",
    "\n",
    "\n",
    "def impute_numerical(X):\n",
    "    imputer = IterativeImputer(initial_strategy='median')\n",
    "    X[numeric_features] = imputer.fit_transform(X[numeric_features])\n",
    "\n",
    "    return X\n",
    "\n",
    "categorical_features = [\n",
    "    'AgeGroup',\n",
    "    'DisciplineScore', \n",
    "    'HappinessScore', \n",
    "    'Sex',\n",
    "]\n",
    "\n",
    "def impute_categorical(X):\n",
    "    imputer = KNNImputer(n_neighbors=5)\n",
    "    res = imputer.fit_transform(X)\n",
    "    X = pd.DataFrame(res, columns=X.columns)\n",
    "    return X\n",
    "        \n",
    "def impute_values(X):\n",
    "    X = impute_numerical(X)\n",
    "    X = impute_categorical(X)\n",
    "    return X\n",
    "\n",
    "\n",
    "imputation_transformer = FunctionTransformer(impute_values)"
   ]
  },
  {
   "cell_type": "markdown",
   "metadata": {},
   "source": [
    "### Outlier Detection\n"
   ]
  },
  {
   "cell_type": "markdown",
   "metadata": {},
   "source": [
    "#### OutlierClipper transformer"
   ]
  },
  {
   "cell_type": "code",
   "execution_count": 19,
   "metadata": {},
   "outputs": [],
   "source": [
    "class OutlierClipper:\n",
    "    def __init__(self):\n",
    "        self._feature_map = {}\n",
    "\n",
    "    def fit(self, data):\n",
    "        features = list(data.columns)\n",
    "        for feature in features:\n",
    "            f_q1 = data[feature].quantile(0.25)\n",
    "            f_q3 = data[feature].quantile(0.75)\n",
    "            f_iqr = f_q3 - f_q1\n",
    "            self._feature_map[feature] = (f_q1 - (1.5 * f_iqr), f_q3 + (1.5 * f_iqr))\n",
    "        return self\n",
    "\n",
    "    def transform(self, data):\n",
    "        data_copy = data.copy()\n",
    "        for feature in self._feature_map.keys():\n",
    "            data_copy[feature] = data_copy[feature].clip(lower=self._feature_map[feature][0],\n",
    "                                                         upper=self._feature_map[feature][1])\n",
    "        return data_copy\n",
    "\n",
    "    def fit_transform(self, data):\n",
    "        self.fit(data)\n",
    "        return self.transform(data)"
   ]
  },
  {
   "cell_type": "code",
   "execution_count": 20,
   "metadata": {},
   "outputs": [],
   "source": [
    "continous_features = ['StepsPerYear',\n",
    "                    'TimeOnSocialActivities',\n",
    "                    'AvgHouseholdExpenseOnPresents',\n",
    "                    'AvgHouseholdExpenseOnSocialGames',\n",
    "                    'AvgHouseholdExpenseParkingTicketsPerYear',\n",
    "                    'AvgMinSportsPerDay',\n",
    "                    'AvgTimeOnSocialMedia',\n",
    "                    'AvgTimeOnStuding',\n",
    "                    'BMI',\n",
    "                    'pcrResult1',\n",
    "                    'pcrResult10',\n",
    "                    'pcrResult11',\n",
    "                    'pcrResult12',\n",
    "                    'pcrResult13',\n",
    "                    'pcrResult14',\n",
    "                    'pcrResult15',\n",
    "                    'pcrResult16',\n",
    "                    'pcrResult2',\n",
    "                    'pcrResult3',\n",
    "                    'pcrResult4',\n",
    "                    'pcrResult5',\n",
    "                    'pcrResult6',\n",
    "                    'pcrResult7',\n",
    "                    'pcrResult8',\n",
    "                    'pcrResult9']"
   ]
  },
  {
   "cell_type": "code",
   "execution_count": 21,
   "metadata": {},
   "outputs": [],
   "source": [
    "def clip_outliers(X):\n",
    "    outlier_clipper = OutlierClipper()\n",
    "    X[continous_features] = outlier_clipper.fit_transform(X[continous_features])\n",
    "\n",
    "    return X\n",
    "\n",
    "outlier_transformer = FunctionTransformer(clip_outliers)\n"
   ]
  },
  {
   "cell_type": "markdown",
   "metadata": {},
   "source": [
    "## Normalization"
   ]
  },
  {
   "cell_type": "code",
   "execution_count": 22,
   "metadata": {},
   "outputs": [],
   "source": [
    "positive_scaled_features = ['AgeGroup',\n",
    "    'AvgHouseholdExpenseOnPresents',\n",
    "    'AvgHouseholdExpenseOnSocialGames',\n",
    "    'AvgHouseholdExpenseParkingTicketsPerYear',\n",
    "    'AvgMinSportsPerDay',\n",
    "    'AvgTimeOnSocialMedia',\n",
    "    'AvgTimeOnStuding',\n",
    "    'BMI',\n",
    "    'DateOfPCRTest',\n",
    "    'DisciplineScore',\n",
    "    'HappinessScore',\n",
    "    'NrCousins',\n",
    "    'StepsPerYear',\n",
    "    'TimeOnSocialActivities',\n",
    "    'pcrResult14',\n",
    "    'pcrResult16']\n",
    "\n",
    "negative_scaled_features = [\n",
    "    'pcrResult1',\n",
    "    'pcrResult10',\n",
    "    'pcrResult11',\n",
    "    'pcrResult12',\n",
    "    'pcrResult13',\n",
    "    'pcrResult15',\n",
    "    'pcrResult2',\n",
    "    'pcrResult3',\n",
    "    'pcrResult4',\n",
    "    'pcrResult5',\n",
    "    'pcrResult6',\n",
    "    'pcrResult7',\n",
    "    'pcrResult8',\n",
    "    'pcrResult9',\n",
    "]\n",
    "\n",
    "def normalize_data(X):\n",
    "    minMaxScaler = MinMaxScaler()\n",
    "    X[positive_scaled_features] = minMaxScaler.fit_transform(X[positive_scaled_features])\n",
    "\n",
    "    maxAbsScale = MaxAbsScaler()\n",
    "    X[negative_scaled_features] = maxAbsScale.fit_transform(X[negative_scaled_features])\n",
    "\n",
    "    # Normalize longitude and latitude\n",
    "\n",
    "    X['CurrentLocation_Lat'] /= 180\n",
    "    X['CurrentLocation_Long'] /= 180\n",
    "\n",
    "    return X\n",
    "\n",
    "normalize_transformer = FunctionTransformer(normalize_data)\n"
   ]
  },
  {
   "cell_type": "markdown",
   "metadata": {},
   "source": [
    "# Feature Selection"
   ]
  },
  {
   "cell_type": "code",
   "execution_count": 23,
   "metadata": {},
   "outputs": [],
   "source": [
    "diseases = ['cmv', 'cold', 'covid', 'flue', 'measles', 'not_detected']\n",
    "labels = pd.DataFrame()\n",
    "labels['is_spreader'] = pd.Series([0 if 'NotSpreader' in row else 1 for row in df['TestResultsCode']])\n",
    "labels['is_at_risk'] = pd.Series([0 if 'NotatRisk' in row else 1 for row in df['TestResultsCode']])\n",
    "for d in diseases:\n",
    "    labels[d] = pd.Series([1 if d in row else 0 for row in df['TestResultsCode']])\n"
   ]
  },
  {
   "cell_type": "markdown",
   "metadata": {},
   "source": [
    "## Feature Selection with Filter"
   ]
  },
  {
   "cell_type": "code",
   "execution_count": 24,
   "metadata": {},
   "outputs": [],
   "source": [
    "def select_features_filter(X):\n",
    "    relief = RFE(ReliefF(), n_features_to_select=20, step = 0.5, verbose=True)\n",
    "    feature_selector = relief.fit(X, df['TestResultsCode'].values.codes)\n",
    "    print('Selected Features:', X.columns[feature_selector.support_])\n",
    "    return feature_selector"
   ]
  },
  {
   "cell_type": "markdown",
   "metadata": {},
   "source": [
    "from sklearn.svm import LinearSVC## Feature selection with Wrapper"
   ]
  },
  {
   "cell_type": "code",
   "execution_count": 25,
   "metadata": {},
   "outputs": [],
   "source": [
    "from sklearn.svm import LinearSVC"
   ]
  },
  {
   "cell_type": "code",
   "execution_count": 26,
   "metadata": {},
   "outputs": [],
   "source": [
    "def select_features_wrapper(X,y):\n",
    "#     svc = SVC(gamma='auto')\n",
    "    linearSVC = LinearSVC(random_state=0, tol=1e-5, class_weight='balanced')\n",
    "    # knn = KNeighborsClassifier(n_neighbors=3)\n",
    "    sfs = SequentialFeatureSelector(linearSVC, k_features=20, forward=False, floating=False, verbose=2, cv=0, n_jobs=-1)\n",
    "    sfs.fit(X, y)\n",
    "\n",
    "    print(sfs.k_feature_names_)\n",
    "\n",
    "    return sfs"
   ]
  },
  {
   "cell_type": "code",
   "execution_count": null,
   "metadata": {},
   "outputs": [],
   "source": []
  },
  {
   "cell_type": "markdown",
   "metadata": {
    "pycharm": {
     "name": "#%% md\n"
    }
   },
   "source": [
    "# Pipeline Definition"
   ]
  },
  {
   "cell_type": "code",
   "execution_count": 27,
   "metadata": {
    "collapsed": false,
    "jupyter": {
     "outputs_hidden": false
    },
    "pycharm": {
     "name": "#%%\n"
    }
   },
   "outputs": [],
   "source": [
    "data_preperation_pipelines = Pipeline([\n",
    "    ('feature_types', features_data_types_pipeline),\n",
    "    ('feature_imputation', imputation_transformer),\n",
    "    ('outlier_clipping', outlier_transformer),\n",
    "    ('normalization', normalize_transformer)\n",
    "])"
   ]
  },
  {
   "cell_type": "code",
   "execution_count": 28,
   "metadata": {
    "collapsed": false,
    "jupyter": {
     "outputs_hidden": false
    },
    "pycharm": {
     "name": "#%%\n"
    }
   },
   "outputs": [
    {
     "name": "stdout",
     "output_type": "stream",
     "text": [
      "AgeGroup                                    0\n",
      "AvgHouseholdExpenseOnPresents               0\n",
      "AvgHouseholdExpenseOnSocialGames            0\n",
      "AvgHouseholdExpenseParkingTicketsPerYear    0\n",
      "AvgMinSportsPerDay                          0\n",
      "AvgTimeOnSocialMedia                        0\n",
      "AvgTimeOnStuding                            0\n",
      "BMI                                         0\n",
      "DateOfPCRTest                               0\n",
      "DisciplineScore                             0\n",
      "HappinessScore                              0\n",
      "NrCousins                                   0\n",
      "Sex                                         0\n",
      "StepsPerYear                                0\n",
      "TimeOnSocialActivities                      0\n",
      "pcrResult1                                  0\n",
      "pcrResult10                                 0\n",
      "pcrResult11                                 0\n",
      "pcrResult12                                 0\n",
      "pcrResult13                                 0\n",
      "pcrResult14                                 0\n",
      "pcrResult15                                 0\n",
      "pcrResult16                                 0\n",
      "pcrResult2                                  0\n",
      "pcrResult3                                  0\n",
      "pcrResult4                                  0\n",
      "pcrResult5                                  0\n",
      "pcrResult6                                  0\n",
      "pcrResult7                                  0\n",
      "pcrResult8                                  0\n",
      "pcrResult9                                  0\n",
      "BloodType_A+                                0\n",
      "BloodType_A-                                0\n",
      "BloodType_AB+                               0\n",
      "BloodType_AB-                               0\n",
      "BloodType_B+                                0\n",
      "BloodType_B-                                0\n",
      "BloodType_O+                                0\n",
      "BloodType_O-                                0\n",
      "SyndromeClass_1.0                           0\n",
      "SyndromeClass_2.0                           0\n",
      "SyndromeClass_3.0                           0\n",
      "SyndromeClass_4.0                           0\n",
      "CurrentLocation_Lat                         0\n",
      "CurrentLocation_Long                        0\n",
      "Congestion_or_runny nose                    0\n",
      "Sore_throat                                 0\n",
      "Muscle_or_body_aches                        0\n",
      "Shortness_of_breath                         0\n",
      "Headache                                    0\n",
      "No_Symptoms                                 0\n",
      "Chills                                      0\n",
      "Diarrhea                                    0\n",
      "Fatigue                                     0\n",
      "New_loss_of_taste_or_smell                  0\n",
      "Nausea_or_vomiting                          0\n",
      "Skin_redness                                0\n",
      "dtype: int64\n",
      "AgeGroup                                    0\n",
      "AvgHouseholdExpenseOnPresents               0\n",
      "AvgHouseholdExpenseOnSocialGames            0\n",
      "AvgHouseholdExpenseParkingTicketsPerYear    0\n",
      "AvgMinSportsPerDay                          0\n",
      "AvgTimeOnSocialMedia                        0\n",
      "AvgTimeOnStuding                            0\n",
      "BMI                                         0\n",
      "DateOfPCRTest                               0\n",
      "DisciplineScore                             0\n",
      "HappinessScore                              0\n",
      "NrCousins                                   0\n",
      "Sex                                         0\n",
      "StepsPerYear                                0\n",
      "TimeOnSocialActivities                      0\n",
      "pcrResult1                                  0\n",
      "pcrResult10                                 0\n",
      "pcrResult11                                 0\n",
      "pcrResult12                                 0\n",
      "pcrResult13                                 0\n",
      "pcrResult14                                 0\n",
      "pcrResult15                                 0\n",
      "pcrResult16                                 0\n",
      "pcrResult2                                  0\n",
      "pcrResult3                                  0\n",
      "pcrResult4                                  0\n",
      "pcrResult5                                  0\n",
      "pcrResult6                                  0\n",
      "pcrResult7                                  0\n",
      "pcrResult8                                  0\n",
      "pcrResult9                                  0\n",
      "BloodType_A+                                0\n",
      "BloodType_A-                                0\n",
      "BloodType_AB+                               0\n",
      "BloodType_AB-                               0\n",
      "BloodType_B+                                0\n",
      "BloodType_B-                                0\n",
      "BloodType_O+                                0\n",
      "BloodType_O-                                0\n",
      "SyndromeClass_1.0                           0\n",
      "SyndromeClass_2.0                           0\n",
      "SyndromeClass_3.0                           0\n",
      "SyndromeClass_4.0                           0\n",
      "CurrentLocation_Lat                         0\n",
      "CurrentLocation_Long                        0\n",
      "Fatigue                                     0\n",
      "Congestion_or_runny nose                    0\n",
      "Muscle_or_body_aches                        0\n",
      "Headache                                    0\n",
      "Shortness_of_breath                         0\n",
      "No_Symptoms                                 0\n",
      "Nausea_or_vomiting                          0\n",
      "Sore_throat                                 0\n",
      "Skin_redness                                0\n",
      "Chills                                      0\n",
      "Diarrhea                                    0\n",
      "New_loss_of_taste_or_smell                  0\n",
      "dtype: int64\n",
      "AgeGroup                                    0\n",
      "AvgHouseholdExpenseOnPresents               0\n",
      "AvgHouseholdExpenseOnSocialGames            0\n",
      "AvgHouseholdExpenseParkingTicketsPerYear    0\n",
      "AvgMinSportsPerDay                          0\n",
      "AvgTimeOnSocialMedia                        0\n",
      "AvgTimeOnStuding                            0\n",
      "BMI                                         0\n",
      "DateOfPCRTest                               0\n",
      "DisciplineScore                             0\n",
      "HappinessScore                              0\n",
      "NrCousins                                   0\n",
      "Sex                                         0\n",
      "StepsPerYear                                0\n",
      "TimeOnSocialActivities                      0\n",
      "pcrResult1                                  0\n",
      "pcrResult10                                 0\n",
      "pcrResult11                                 0\n",
      "pcrResult12                                 0\n",
      "pcrResult13                                 0\n",
      "pcrResult14                                 0\n",
      "pcrResult15                                 0\n",
      "pcrResult16                                 0\n",
      "pcrResult2                                  0\n",
      "pcrResult3                                  0\n",
      "pcrResult4                                  0\n",
      "pcrResult5                                  0\n",
      "pcrResult6                                  0\n",
      "pcrResult7                                  0\n",
      "pcrResult8                                  0\n",
      "pcrResult9                                  0\n",
      "BloodType_A+                                0\n",
      "BloodType_A-                                0\n",
      "BloodType_AB+                               0\n",
      "BloodType_AB-                               0\n",
      "BloodType_B+                                0\n",
      "BloodType_B-                                0\n",
      "BloodType_O+                                0\n",
      "BloodType_O-                                0\n",
      "SyndromeClass_1.0                           0\n",
      "SyndromeClass_2.0                           0\n",
      "SyndromeClass_3.0                           0\n",
      "SyndromeClass_4.0                           0\n",
      "CurrentLocation_Lat                         0\n",
      "CurrentLocation_Long                        0\n",
      "No_Symptoms                                 0\n",
      "Shortness_of_breath                         0\n",
      "Diarrhea                                    0\n",
      "New_loss_of_taste_or_smell                  0\n",
      "Headache                                    0\n",
      "Sore_throat                                 0\n",
      "Muscle_or_body_aches                        0\n",
      "Skin_redness                                0\n",
      "Congestion_or_runny nose                    0\n",
      "Fatigue                                     0\n",
      "Nausea_or_vomiting                          0\n",
      "Chills                                      0\n",
      "dtype: int64\n"
     ]
    }
   ],
   "source": [
    "X_train_prepared, y_train_prepared = data_preperation_pipelines.fit_transform(X_train, y_train), label_transformer.fit_transform(y_train)\n",
    "X_validation_prepared, y_validation_prepared = data_preperation_pipelines.fit_transform(X_val, y_val), label_transformer.fit_transform(y_val)\n",
    "X_test_prepared, y_test_prepared = data_preperation_pipelines.fit_transform(X_test, y_test), label_transformer.fit_transform(y_test)"
   ]
  },
  {
   "cell_type": "code",
   "execution_count": 29,
   "metadata": {},
   "outputs": [
    {
     "data": {
      "text/html": [
       "<div>\n",
       "<style scoped>\n",
       "    .dataframe tbody tr th:only-of-type {\n",
       "        vertical-align: middle;\n",
       "    }\n",
       "\n",
       "    .dataframe tbody tr th {\n",
       "        vertical-align: top;\n",
       "    }\n",
       "\n",
       "    .dataframe thead th {\n",
       "        text-align: right;\n",
       "    }\n",
       "</style>\n",
       "<table border=\"1\" class=\"dataframe\">\n",
       "  <thead>\n",
       "    <tr style=\"text-align: right;\">\n",
       "      <th></th>\n",
       "      <th>AgeGroup</th>\n",
       "      <th>AvgHouseholdExpenseOnPresents</th>\n",
       "      <th>AvgHouseholdExpenseOnSocialGames</th>\n",
       "      <th>AvgHouseholdExpenseParkingTicketsPerYear</th>\n",
       "      <th>AvgMinSportsPerDay</th>\n",
       "      <th>AvgTimeOnSocialMedia</th>\n",
       "      <th>AvgTimeOnStuding</th>\n",
       "      <th>BMI</th>\n",
       "      <th>DateOfPCRTest</th>\n",
       "      <th>DisciplineScore</th>\n",
       "      <th>...</th>\n",
       "      <th>Muscle_or_body_aches</th>\n",
       "      <th>Shortness_of_breath</th>\n",
       "      <th>Headache</th>\n",
       "      <th>No_Symptoms</th>\n",
       "      <th>Chills</th>\n",
       "      <th>Diarrhea</th>\n",
       "      <th>Fatigue</th>\n",
       "      <th>New_loss_of_taste_or_smell</th>\n",
       "      <th>Nausea_or_vomiting</th>\n",
       "      <th>Skin_redness</th>\n",
       "    </tr>\n",
       "  </thead>\n",
       "  <tbody>\n",
       "    <tr>\n",
       "      <th>0</th>\n",
       "      <td>0.250</td>\n",
       "      <td>0.194638</td>\n",
       "      <td>0.186915</td>\n",
       "      <td>0.495934</td>\n",
       "      <td>0.190128</td>\n",
       "      <td>0.553013</td>\n",
       "      <td>0.623765</td>\n",
       "      <td>0.751821</td>\n",
       "      <td>0.450549</td>\n",
       "      <td>0.071429</td>\n",
       "      <td>...</td>\n",
       "      <td>0.0</td>\n",
       "      <td>0.0</td>\n",
       "      <td>0.0</td>\n",
       "      <td>0.0</td>\n",
       "      <td>0.0</td>\n",
       "      <td>0.0</td>\n",
       "      <td>0.0</td>\n",
       "      <td>0.0</td>\n",
       "      <td>0.0</td>\n",
       "      <td>0.0</td>\n",
       "    </tr>\n",
       "    <tr>\n",
       "      <th>1</th>\n",
       "      <td>0.375</td>\n",
       "      <td>0.357525</td>\n",
       "      <td>0.345851</td>\n",
       "      <td>0.372715</td>\n",
       "      <td>0.173671</td>\n",
       "      <td>0.297392</td>\n",
       "      <td>0.514190</td>\n",
       "      <td>0.497142</td>\n",
       "      <td>0.838828</td>\n",
       "      <td>0.057143</td>\n",
       "      <td>...</td>\n",
       "      <td>1.0</td>\n",
       "      <td>1.0</td>\n",
       "      <td>0.0</td>\n",
       "      <td>0.0</td>\n",
       "      <td>0.0</td>\n",
       "      <td>0.0</td>\n",
       "      <td>0.0</td>\n",
       "      <td>0.0</td>\n",
       "      <td>0.0</td>\n",
       "      <td>0.0</td>\n",
       "    </tr>\n",
       "    <tr>\n",
       "      <th>2</th>\n",
       "      <td>0.375</td>\n",
       "      <td>0.637438</td>\n",
       "      <td>0.636421</td>\n",
       "      <td>0.622268</td>\n",
       "      <td>0.169389</td>\n",
       "      <td>0.358678</td>\n",
       "      <td>0.417619</td>\n",
       "      <td>0.630477</td>\n",
       "      <td>0.739927</td>\n",
       "      <td>0.065714</td>\n",
       "      <td>...</td>\n",
       "      <td>1.0</td>\n",
       "      <td>0.0</td>\n",
       "      <td>1.0</td>\n",
       "      <td>0.0</td>\n",
       "      <td>0.0</td>\n",
       "      <td>0.0</td>\n",
       "      <td>0.0</td>\n",
       "      <td>0.0</td>\n",
       "      <td>0.0</td>\n",
       "      <td>0.0</td>\n",
       "    </tr>\n",
       "    <tr>\n",
       "      <th>3</th>\n",
       "      <td>0.375</td>\n",
       "      <td>0.559878</td>\n",
       "      <td>0.549789</td>\n",
       "      <td>0.374431</td>\n",
       "      <td>0.347261</td>\n",
       "      <td>0.312755</td>\n",
       "      <td>0.394430</td>\n",
       "      <td>0.318014</td>\n",
       "      <td>0.809524</td>\n",
       "      <td>0.057143</td>\n",
       "      <td>...</td>\n",
       "      <td>0.0</td>\n",
       "      <td>0.0</td>\n",
       "      <td>0.0</td>\n",
       "      <td>1.0</td>\n",
       "      <td>0.0</td>\n",
       "      <td>0.0</td>\n",
       "      <td>0.0</td>\n",
       "      <td>0.0</td>\n",
       "      <td>0.0</td>\n",
       "      <td>0.0</td>\n",
       "    </tr>\n",
       "    <tr>\n",
       "      <th>4</th>\n",
       "      <td>0.375</td>\n",
       "      <td>0.807024</td>\n",
       "      <td>0.795069</td>\n",
       "      <td>0.498979</td>\n",
       "      <td>0.164453</td>\n",
       "      <td>0.479032</td>\n",
       "      <td>0.616796</td>\n",
       "      <td>0.555659</td>\n",
       "      <td>0.564103</td>\n",
       "      <td>0.071429</td>\n",
       "      <td>...</td>\n",
       "      <td>0.0</td>\n",
       "      <td>0.0</td>\n",
       "      <td>1.0</td>\n",
       "      <td>0.0</td>\n",
       "      <td>0.0</td>\n",
       "      <td>0.0</td>\n",
       "      <td>0.0</td>\n",
       "      <td>0.0</td>\n",
       "      <td>0.0</td>\n",
       "      <td>0.0</td>\n",
       "    </tr>\n",
       "    <tr>\n",
       "      <th>...</th>\n",
       "      <td>...</td>\n",
       "      <td>...</td>\n",
       "      <td>...</td>\n",
       "      <td>...</td>\n",
       "      <td>...</td>\n",
       "      <td>...</td>\n",
       "      <td>...</td>\n",
       "      <td>...</td>\n",
       "      <td>...</td>\n",
       "      <td>...</td>\n",
       "      <td>...</td>\n",
       "      <td>...</td>\n",
       "      <td>...</td>\n",
       "      <td>...</td>\n",
       "      <td>...</td>\n",
       "      <td>...</td>\n",
       "      <td>...</td>\n",
       "      <td>...</td>\n",
       "      <td>...</td>\n",
       "      <td>...</td>\n",
       "      <td>...</td>\n",
       "    </tr>\n",
       "    <tr>\n",
       "      <th>3497</th>\n",
       "      <td>0.375</td>\n",
       "      <td>0.684056</td>\n",
       "      <td>0.666846</td>\n",
       "      <td>0.377301</td>\n",
       "      <td>0.101843</td>\n",
       "      <td>0.522078</td>\n",
       "      <td>0.499915</td>\n",
       "      <td>0.642625</td>\n",
       "      <td>0.492314</td>\n",
       "      <td>0.057143</td>\n",
       "      <td>...</td>\n",
       "      <td>0.0</td>\n",
       "      <td>0.0</td>\n",
       "      <td>0.0</td>\n",
       "      <td>1.0</td>\n",
       "      <td>0.0</td>\n",
       "      <td>0.0</td>\n",
       "      <td>0.0</td>\n",
       "      <td>0.0</td>\n",
       "      <td>0.0</td>\n",
       "      <td>0.0</td>\n",
       "    </tr>\n",
       "    <tr>\n",
       "      <th>3498</th>\n",
       "      <td>0.250</td>\n",
       "      <td>0.623144</td>\n",
       "      <td>0.620474</td>\n",
       "      <td>0.465198</td>\n",
       "      <td>0.097931</td>\n",
       "      <td>0.436965</td>\n",
       "      <td>0.641856</td>\n",
       "      <td>0.211916</td>\n",
       "      <td>0.630037</td>\n",
       "      <td>0.042857</td>\n",
       "      <td>...</td>\n",
       "      <td>0.0</td>\n",
       "      <td>1.0</td>\n",
       "      <td>0.0</td>\n",
       "      <td>0.0</td>\n",
       "      <td>0.0</td>\n",
       "      <td>0.0</td>\n",
       "      <td>1.0</td>\n",
       "      <td>0.0</td>\n",
       "      <td>0.0</td>\n",
       "      <td>0.0</td>\n",
       "    </tr>\n",
       "    <tr>\n",
       "      <th>3499</th>\n",
       "      <td>0.250</td>\n",
       "      <td>0.567152</td>\n",
       "      <td>0.543543</td>\n",
       "      <td>0.478893</td>\n",
       "      <td>0.260367</td>\n",
       "      <td>0.822387</td>\n",
       "      <td>0.715711</td>\n",
       "      <td>0.824135</td>\n",
       "      <td>0.040293</td>\n",
       "      <td>0.085714</td>\n",
       "      <td>...</td>\n",
       "      <td>0.0</td>\n",
       "      <td>1.0</td>\n",
       "      <td>0.0</td>\n",
       "      <td>0.0</td>\n",
       "      <td>1.0</td>\n",
       "      <td>0.0</td>\n",
       "      <td>0.0</td>\n",
       "      <td>0.0</td>\n",
       "      <td>1.0</td>\n",
       "      <td>0.0</td>\n",
       "    </tr>\n",
       "    <tr>\n",
       "      <th>3500</th>\n",
       "      <td>0.300</td>\n",
       "      <td>0.557838</td>\n",
       "      <td>0.551349</td>\n",
       "      <td>0.372300</td>\n",
       "      <td>0.670976</td>\n",
       "      <td>0.225739</td>\n",
       "      <td>1.000000</td>\n",
       "      <td>0.684346</td>\n",
       "      <td>0.941392</td>\n",
       "      <td>0.057143</td>\n",
       "      <td>...</td>\n",
       "      <td>0.0</td>\n",
       "      <td>1.0</td>\n",
       "      <td>1.0</td>\n",
       "      <td>0.0</td>\n",
       "      <td>0.0</td>\n",
       "      <td>0.0</td>\n",
       "      <td>0.0</td>\n",
       "      <td>0.0</td>\n",
       "      <td>0.0</td>\n",
       "      <td>0.0</td>\n",
       "    </tr>\n",
       "    <tr>\n",
       "      <th>3501</th>\n",
       "      <td>0.250</td>\n",
       "      <td>0.460589</td>\n",
       "      <td>0.445916</td>\n",
       "      <td>0.510507</td>\n",
       "      <td>0.321072</td>\n",
       "      <td>0.466761</td>\n",
       "      <td>0.527457</td>\n",
       "      <td>0.529444</td>\n",
       "      <td>0.578755</td>\n",
       "      <td>0.085714</td>\n",
       "      <td>...</td>\n",
       "      <td>0.0</td>\n",
       "      <td>0.0</td>\n",
       "      <td>0.0</td>\n",
       "      <td>0.0</td>\n",
       "      <td>1.0</td>\n",
       "      <td>0.0</td>\n",
       "      <td>0.0</td>\n",
       "      <td>0.0</td>\n",
       "      <td>0.0</td>\n",
       "      <td>1.0</td>\n",
       "    </tr>\n",
       "  </tbody>\n",
       "</table>\n",
       "<p>3502 rows × 57 columns</p>\n",
       "</div>"
      ],
      "text/plain": [
       "      AgeGroup  AvgHouseholdExpenseOnPresents  \\\n",
       "0        0.250                       0.194638   \n",
       "1        0.375                       0.357525   \n",
       "2        0.375                       0.637438   \n",
       "3        0.375                       0.559878   \n",
       "4        0.375                       0.807024   \n",
       "...        ...                            ...   \n",
       "3497     0.375                       0.684056   \n",
       "3498     0.250                       0.623144   \n",
       "3499     0.250                       0.567152   \n",
       "3500     0.300                       0.557838   \n",
       "3501     0.250                       0.460589   \n",
       "\n",
       "      AvgHouseholdExpenseOnSocialGames  \\\n",
       "0                             0.186915   \n",
       "1                             0.345851   \n",
       "2                             0.636421   \n",
       "3                             0.549789   \n",
       "4                             0.795069   \n",
       "...                                ...   \n",
       "3497                          0.666846   \n",
       "3498                          0.620474   \n",
       "3499                          0.543543   \n",
       "3500                          0.551349   \n",
       "3501                          0.445916   \n",
       "\n",
       "      AvgHouseholdExpenseParkingTicketsPerYear  AvgMinSportsPerDay  \\\n",
       "0                                     0.495934            0.190128   \n",
       "1                                     0.372715            0.173671   \n",
       "2                                     0.622268            0.169389   \n",
       "3                                     0.374431            0.347261   \n",
       "4                                     0.498979            0.164453   \n",
       "...                                        ...                 ...   \n",
       "3497                                  0.377301            0.101843   \n",
       "3498                                  0.465198            0.097931   \n",
       "3499                                  0.478893            0.260367   \n",
       "3500                                  0.372300            0.670976   \n",
       "3501                                  0.510507            0.321072   \n",
       "\n",
       "      AvgTimeOnSocialMedia  AvgTimeOnStuding       BMI  DateOfPCRTest  \\\n",
       "0                 0.553013          0.623765  0.751821       0.450549   \n",
       "1                 0.297392          0.514190  0.497142       0.838828   \n",
       "2                 0.358678          0.417619  0.630477       0.739927   \n",
       "3                 0.312755          0.394430  0.318014       0.809524   \n",
       "4                 0.479032          0.616796  0.555659       0.564103   \n",
       "...                    ...               ...       ...            ...   \n",
       "3497              0.522078          0.499915  0.642625       0.492314   \n",
       "3498              0.436965          0.641856  0.211916       0.630037   \n",
       "3499              0.822387          0.715711  0.824135       0.040293   \n",
       "3500              0.225739          1.000000  0.684346       0.941392   \n",
       "3501              0.466761          0.527457  0.529444       0.578755   \n",
       "\n",
       "      DisciplineScore  ...  Muscle_or_body_aches  Shortness_of_breath  \\\n",
       "0            0.071429  ...                   0.0                  0.0   \n",
       "1            0.057143  ...                   1.0                  1.0   \n",
       "2            0.065714  ...                   1.0                  0.0   \n",
       "3            0.057143  ...                   0.0                  0.0   \n",
       "4            0.071429  ...                   0.0                  0.0   \n",
       "...               ...  ...                   ...                  ...   \n",
       "3497         0.057143  ...                   0.0                  0.0   \n",
       "3498         0.042857  ...                   0.0                  1.0   \n",
       "3499         0.085714  ...                   0.0                  1.0   \n",
       "3500         0.057143  ...                   0.0                  1.0   \n",
       "3501         0.085714  ...                   0.0                  0.0   \n",
       "\n",
       "      Headache  No_Symptoms  Chills  Diarrhea  Fatigue  \\\n",
       "0          0.0          0.0     0.0       0.0      0.0   \n",
       "1          0.0          0.0     0.0       0.0      0.0   \n",
       "2          1.0          0.0     0.0       0.0      0.0   \n",
       "3          0.0          1.0     0.0       0.0      0.0   \n",
       "4          1.0          0.0     0.0       0.0      0.0   \n",
       "...        ...          ...     ...       ...      ...   \n",
       "3497       0.0          1.0     0.0       0.0      0.0   \n",
       "3498       0.0          0.0     0.0       0.0      1.0   \n",
       "3499       0.0          0.0     1.0       0.0      0.0   \n",
       "3500       1.0          0.0     0.0       0.0      0.0   \n",
       "3501       0.0          0.0     1.0       0.0      0.0   \n",
       "\n",
       "      New_loss_of_taste_or_smell  Nausea_or_vomiting  Skin_redness  \n",
       "0                            0.0                 0.0           0.0  \n",
       "1                            0.0                 0.0           0.0  \n",
       "2                            0.0                 0.0           0.0  \n",
       "3                            0.0                 0.0           0.0  \n",
       "4                            0.0                 0.0           0.0  \n",
       "...                          ...                 ...           ...  \n",
       "3497                         0.0                 0.0           0.0  \n",
       "3498                         0.0                 0.0           0.0  \n",
       "3499                         0.0                 1.0           0.0  \n",
       "3500                         0.0                 0.0           0.0  \n",
       "3501                         0.0                 0.0           1.0  \n",
       "\n",
       "[3502 rows x 57 columns]"
      ]
     },
     "execution_count": 29,
     "metadata": {},
     "output_type": "execute_result"
    }
   ],
   "source": [
    "X_train_prepared"
   ]
  },
  {
   "cell_type": "code",
   "execution_count": 30,
   "metadata": {},
   "outputs": [
    {
     "data": {
      "text/plain": [
       "AgeGroup                                    0\n",
       "AvgHouseholdExpenseOnPresents               0\n",
       "AvgHouseholdExpenseOnSocialGames            0\n",
       "AvgHouseholdExpenseParkingTicketsPerYear    0\n",
       "AvgMinSportsPerDay                          0\n",
       "AvgTimeOnSocialMedia                        0\n",
       "AvgTimeOnStuding                            0\n",
       "BMI                                         0\n",
       "DateOfPCRTest                               0\n",
       "DisciplineScore                             0\n",
       "HappinessScore                              0\n",
       "NrCousins                                   0\n",
       "Sex                                         0\n",
       "StepsPerYear                                0\n",
       "TimeOnSocialActivities                      0\n",
       "pcrResult1                                  0\n",
       "pcrResult10                                 0\n",
       "pcrResult11                                 0\n",
       "pcrResult12                                 0\n",
       "pcrResult13                                 0\n",
       "pcrResult14                                 0\n",
       "pcrResult15                                 0\n",
       "pcrResult16                                 0\n",
       "pcrResult2                                  0\n",
       "pcrResult3                                  0\n",
       "pcrResult4                                  0\n",
       "pcrResult5                                  0\n",
       "pcrResult6                                  0\n",
       "pcrResult7                                  0\n",
       "pcrResult8                                  0\n",
       "pcrResult9                                  0\n",
       "BloodType_A+                                0\n",
       "BloodType_A-                                0\n",
       "BloodType_AB+                               0\n",
       "BloodType_AB-                               0\n",
       "BloodType_B+                                0\n",
       "BloodType_B-                                0\n",
       "BloodType_O+                                0\n",
       "BloodType_O-                                0\n",
       "SyndromeClass_1.0                           0\n",
       "SyndromeClass_2.0                           0\n",
       "SyndromeClass_3.0                           0\n",
       "SyndromeClass_4.0                           0\n",
       "CurrentLocation_Lat                         0\n",
       "CurrentLocation_Long                        0\n",
       "Congestion_or_runny nose                    0\n",
       "Sore_throat                                 0\n",
       "Muscle_or_body_aches                        0\n",
       "Shortness_of_breath                         0\n",
       "Headache                                    0\n",
       "No_Symptoms                                 0\n",
       "Chills                                      0\n",
       "Diarrhea                                    0\n",
       "Fatigue                                     0\n",
       "New_loss_of_taste_or_smell                  0\n",
       "Nausea_or_vomiting                          0\n",
       "Skin_redness                                0\n",
       "dtype: int64"
      ]
     },
     "execution_count": 30,
     "metadata": {},
     "output_type": "execute_result"
    }
   ],
   "source": [
    "X_train_prepared.isna().sum()"
   ]
  },
  {
   "cell_type": "code",
   "execution_count": 31,
   "metadata": {},
   "outputs": [],
   "source": [
    "# select_features_wrapper(X_train_prepared, y_train_prepared)"
   ]
  },
  {
   "cell_type": "code",
   "execution_count": 32,
   "metadata": {},
   "outputs": [
    {
     "data": {
      "text/plain": [
       "TestResultsCode\n",
       "0                  345\n",
       "1                  336\n",
       "2                  318\n",
       "3                  300\n",
       "4                  194\n",
       "5                  192\n",
       "7                  177\n",
       "6                  174\n",
       "10                 158\n",
       "9                  156\n",
       "8                  148\n",
       "12                 143\n",
       "11                 142\n",
       "13                 134\n",
       "15                 126\n",
       "14                 124\n",
       "16                  58\n",
       "20                  44\n",
       "18                  43\n",
       "21                  41\n",
       "17                  39\n",
       "22                  37\n",
       "19                  37\n",
       "23                  36\n",
       "dtype: int64"
      ]
     },
     "execution_count": 32,
     "metadata": {},
     "output_type": "execute_result"
    }
   ],
   "source": [
    "y_train_prepared.value_counts()"
   ]
  },
  {
   "cell_type": "code",
   "execution_count": 33,
   "metadata": {},
   "outputs": [
    {
     "data": {
      "image/png": "[encoded data removed]",
      "text/plain": [
       "<Figure size 1440x1440 with 2 Axes>"
      ]
     },
     "metadata": {
      "needs_background": "light"
     },
     "output_type": "display_data"
    }
   ],
   "source": [
    "display_correlation_matrix(X_train_prepared, y_train_prepared)"
   ]
  },
  {
   "cell_type": "code",
   "execution_count": 34,
   "metadata": {},
   "outputs": [
    {
     "data": {
      "text/plain": [
       "TestResultsCode    int32\n",
       "dtype: object"
      ]
     },
     "execution_count": 34,
     "metadata": {},
     "output_type": "execute_result"
    }
   ],
   "source": [
    "y_train_prepared.dtypes"
   ]
  }
 ],
 "metadata": {
  "kernelspec": {
   "display_name": "PyCharm (ml_hw2)",
   "language": "python",
   "name": "pycharm-64409fe0"
  },
  "language_info": {
   "codemirror_mode": {
    "name": "ipython",
    "version": 3
   },
   "file_extension": ".py",
   "mimetype": "text/x-python",
   "name": "python",
   "nbconvert_exporter": "python",
   "pygments_lexer": "ipython3",
   "version": "3.8.6"
  }
 },
 "nbformat": 4,
 "nbformat_minor": 4
}
