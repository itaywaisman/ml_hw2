{
 "metadata": {
  "language_info": {
   "codemirror_mode": {
    "name": "ipython",
    "version": 3
   },
   "file_extension": ".py",
   "mimetype": "text/x-python",
   "name": "python",
   "nbconvert_exporter": "python",
   "pygments_lexer": "ipython3",
   "version": "3.8.3-final"
  },
  "orig_nbformat": 2,
  "kernelspec": {
   "name": "python3",
   "display_name": "Python 3"
  }
 },
 "nbformat": 4,
 "nbformat_minor": 2,
 "cells": [
  {
   "source": [
    "# HW 1\n",
    "\n",
    "## Import libraries\n",
    "\n"
   ],
   "cell_type": "markdown",
   "metadata": {}
  },
  {
   "cell_type": "code",
   "execution_count": 226,
   "metadata": {},
   "outputs": [],
   "source": [
    "import pandas as pd # data analysis and manipulation tool\n",
    "import numpy as np # Numerical computing tools\n",
    "import seaborn as sns # visualization library\n",
    "import matplotlib.pyplot as plt # another visualization library\n",
    "import warnings\n",
    "warnings.filterwarnings('ignore')"
   ]
  },
  {
   "source": [
    "## Part 1 - load the data"
   ],
   "cell_type": "markdown",
   "metadata": {}
  },
  {
   "cell_type": "code",
   "execution_count": 227,
   "metadata": {},
   "outputs": [],
   "source": [
    "file = 'virus_hw2.csv'\n",
    "\n",
    "label_categories = [\n",
    "    'not_detected_Spreader_NotatRisk',\n",
    "    'not_detected_NotSpreader_atRisk',\n",
    "    'not_detected_NotSpreader_NotatRisk',\n",
    "    'not_detected_Spreader_atRisk',\n",
    "    'cold_NotSpreader_NotatRisk',\n",
    "    'cold_Spreader_NotatRisk',\n",
    "    'cold_Spreader_atRisk',\n",
    "    'cold_NotSpreader_atRisk',\n",
    "    'flue_NotSpreader_NotatRisk',\n",
    "    'flue_NotSpreader_atRisk',\n",
    "    'flue_Spreader_NotatRisk',\n",
    "    'covid_NotSpreader_atRisk',\n",
    "    'covid_Spreader_NotatRisk',\n",
    "    'flue_Spreader_atRisk',\n",
    "    'covid_NotSpreader_NotatRisk',\n",
    "    'covid_Spreader_atRisk',\n",
    "    'cmv_NotSpreader_NotatRisk',\n",
    "    'cmv_Spreader_atRisk',\n",
    "    'cmv_NotSpreader_atRisk',\n",
    "    'cmv_Spreader_NotatRisk',\n",
    "    'measles_Spreader_NotatRisk',\n",
    "    'measles_NotSpreader_NotatRisk',\n",
    "    'measles_NotSpreader_atRisk',\n",
    "    'measles_Spreader_atRisk',\n",
    "]"
   ]
  },
  {
   "cell_type": "code",
   "execution_count": 228,
   "metadata": {},
   "outputs": [],
   "source": [
    "parse_dates = ['DateOfPCRTest']\n",
    "df = pd.read_csv(file, parse_dates=parse_dates)"
   ]
  },
  {
   "source": [
    "## Fix the data types\n",
    "\n",
    "Fixing CurrentLocation lat long type - separate into 2 features"
   ],
   "cell_type": "markdown",
   "metadata": {}
  },
  {
   "cell_type": "code",
   "execution_count": 229,
   "metadata": {},
   "outputs": [],
   "source": [
    "convert_dict = {\n",
    "    'Address': str,\n",
    "    'AgeGroup': pd.CategoricalDtype(categories=range(1,9), ordered=True),\n",
    "    'BloodType': pd.CategoricalDtype(categories=['AB-', 'A+', 'AB+', 'A-', 'B-', 'O-', 'B+', 'O+']),\n",
    "    'Job': str,\n",
    "    'Sex': pd.CategoricalDtype(categories=['F', 'M']),\n",
    "    'SyndromeClass': pd.CategoricalDtype(categories=range(1,5)),\n",
    "    'TestResultsCode': pd.CategoricalDtype(categories=label_categories),\n",
    "}\n",
    "\n",
    "df = df.astype(convert_dict)"
   ]
  },
  {
   "cell_type": "code",
   "execution_count": 251,
   "metadata": {},
   "outputs": [],
   "source": [
    "long_lat_df = df['CurrentLocation'].str.strip('(Decimal').str.split(', ', expand=True).rename(columns={0:'Lat', 1:'Long'}) \n",
    "df['CurrentLocation_Lat'] = long_lat_df['Lat'].str.strip(\"')\")\n",
    "df['CurrentLocation_Long'] = long_lat_df['Long'].str.strip(\"Decimal('\").str.rstrip(\"'))\")\n",
    "\n",
    "convert_dict = {\n",
    "    'CurrentLocation_Lat': float,\n",
    "    'CurrentLocation_Long': float,\n",
    "}\n",
    "\n",
    "df = df.astype(convert_dict)"
   ]
  },
  {
   "cell_type": "code",
   "execution_count": 233,
   "metadata": {},
   "outputs": [],
   "source": [
    "\n",
    "splitted_df = df['SelfDeclarationOfIllnessForm'].str.split(';', expand=True)\n",
    "values = splitted_df.values.flatten()\n",
    "unique_values = pd.unique(values).tolist()\n",
    "stripped_unique_values = [str(val).strip(' ') for val in unique_values]\n",
    "\n",
    "# Split by ; to create a list for each row\n",
    "df['SelfDeclarationOfIllnessForm_list'] = df['SelfDeclarationOfIllnessForm'].str.split(';')\n",
    "\n",
    "# Replace NAN values with empty list\n",
    "isna = df['SelfDeclarationOfIllnessForm_list'].isna()\n",
    "df.loc[isna, 'SelfDeclarationOfIllnessForm_list'] = pd.Series([[]] * isna.sum()).values\n",
    "\n",
    "# strip whitespaces\n",
    "df['SelfDeclarationOfIllnessForm_list'] = [[str(val).strip() for val in list(symptom_list)] for symptom_list in df['SelfDeclarationOfIllnessForm_list'].values]\n",
    "\n",
    "# Create columns\n",
    "for column_name in stripped_unique_values:\n",
    "    df[column_name] = pd.Series([1 if column_name in row else 0 for row in df['SelfDeclarationOfIllnessForm_list']])\n",
    "\n",
    "# Rename no symptoms column\n",
    "df.rename(columns={'nan': 'No_Symptoms'}, inplace=True)\n",
    "\n",
    "# Drop irrelevant features\n",
    "df.drop(labels=['SelfDeclarationOfIllnessForm','SelfDeclarationOfIllnessForm_list'], axis=1, inplace=True)\n"
   ]
  },
  {
   "cell_type": "code",
   "execution_count": 252,
   "metadata": {},
   "outputs": [
    {
     "output_type": "execute_result",
     "data": {
      "text/plain": [
       "PatientID                                            int64\n",
       "Address                                             object\n",
       "AgeGroup                                          category\n",
       "AvgHouseholdExpenseOnPresents                      float64\n",
       "AvgHouseholdExpenseOnSocialGames                   float64\n",
       "AvgHouseholdExpenseParkingTicketsPerYear           float64\n",
       "AvgMinSportsPerDay                                 float64\n",
       "AvgTimeOnSocialMedia                               float64\n",
       "AvgTimeOnStuding                                   float64\n",
       "BMI                                                float64\n",
       "BloodType                                         category\n",
       "CurrentLocation                                     object\n",
       "DateOfPCRTest                               datetime64[ns]\n",
       "DisciplineScore                                    float64\n",
       "HappinessScore                                     float64\n",
       "Job                                                 object\n",
       "NrCousins                                          float64\n",
       "Sex                                               category\n",
       "StepsPerYear                                       float64\n",
       "SyndromeClass                                     category\n",
       "TimeOnSocialActivities                             float64\n",
       "pcrResult1                                         float64\n",
       "pcrResult10                                        float64\n",
       "pcrResult11                                        float64\n",
       "pcrResult12                                        float64\n",
       "pcrResult13                                        float64\n",
       "pcrResult14                                        float64\n",
       "pcrResult15                                        float64\n",
       "pcrResult16                                        float64\n",
       "pcrResult2                                         float64\n",
       "pcrResult3                                         float64\n",
       "pcrResult4                                         float64\n",
       "pcrResult5                                         float64\n",
       "pcrResult6                                         float64\n",
       "pcrResult7                                         float64\n",
       "pcrResult8                                         float64\n",
       "pcrResult9                                         float64\n",
       "TestResultsCode                                   category\n",
       "CurrentLocation_Lat                                float64\n",
       "CurrentLocation_Long                               float64\n",
       "Diarrhea                                             int64\n",
       "Nausea_or_vomiting                                   int64\n",
       "Shortness_of_breath                                  int64\n",
       "Congestion_or_runny nose                             int64\n",
       "Headache                                             int64\n",
       "No_Symptoms                                          int64\n",
       "Fatigue                                              int64\n",
       "Muscle_or_body_aches                                 int64\n",
       "Chills                                               int64\n",
       "Skin_redness                                         int64\n",
       "New_loss_of_taste_or_smell                           int64\n",
       "Sore_throat                                          int64\n",
       "dtype: object"
      ]
     },
     "metadata": {},
     "execution_count": 252
    }
   ],
   "source": [
    "df.dtypes"
   ]
  },
  {
   "cell_type": "code",
   "execution_count": null,
   "metadata": {},
   "outputs": [],
   "source": [
    "df.sample(10)"
   ]
  }
 ]
}